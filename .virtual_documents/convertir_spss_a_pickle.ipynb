import pandas as pd
import numpy as np
import matplotlib.pyplot as plt 
import seaborn as sns
import glob, os
# print(pd.__version__)
# Configuro estilo seaborn
sns.set_theme(style='ticks', context='talk', palette='tab10')

# Suprimo los warnings
import warnings
warnings.simplefilter(action='ignore', category=(FutureWarning, UserWarning))

from ydata_profiling import ProfileReport
import dtale



# Configuracion columnas de los dataframes
pd.set_option('display.max_columns', None)
# Configurar para ver todas las filas
pd.set_option('display.max_rows', None)




# Con esto obtenemos la lista de archivos spss del directorio /archivos

ruta_directorio = './archivos/'  # ruta del directorio que contiene los archivos .sav
lista_archivos = []

for archivo in os.listdir(ruta_directorio):
    if archivo.endswith('.sav'):
        lista_archivos.append(archivo)

print(lista_archivos)



for archivo in lista_archivos:
    archivo_path = "./archivos/" + archivo  # suponiendo que la lista contiene solo nombres de archivos
    df = pd.read_spss(archivo_path)
    archivo_pickle = "./archivos/" + archivo.replace('.sav', '.pickle')
    pd.to_pickle(df, archivo_pickle)
    print(f"Archivo {archivo} leído y grabado como {archivo_pickle}")


# Vamos a poner todo en un dataframe
ruta_directorio = './archivos/'
archivos_pickle = [f for f in os.listdir(ruta_directorio) if f.endswith('.pickle')]

columnas_por_archivo = {}
for archivo in archivos_pickle:
    archivo_sin_extension = archivo.replace('.pickle', '')
    df = pd.read_pickle(os.path.join(ruta_directorio, archivo))
    columnas_por_archivo[archivo_sin_extension] = list(df.columns)

df_final = pd.DataFrame.from_dict(columnas_por_archivo, orient='index').T



df_final


df_final.to_excel('./archivos/listado_columnas.xlsx', index=False)


dtale.show(df_final, port=8080, host="127.0.0.1", force=True)



