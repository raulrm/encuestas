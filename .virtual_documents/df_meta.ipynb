import numpy as np
import pandas as pd
import pyreadstat
import os


# mostrar todas las columnas del pandas
pd.options.display.max_columns = None


# Con esto obtenemos la lista de archivos spss del directorio /archivos

ruta_directorio = './archivos/'  # ruta del directorio que contiene los archivos .sav
lista_archivos = []

for archivo in os.listdir(ruta_directorio):
    if archivo.endswith('.sav'):
        lista_archivos.append(archivo)

print(lista_archivos)


archivo = './archivos/'+'Base Nacional Abril.n3.sav'


df, meta = pyreadstat.read_sav(archivo)
df.sample(3)


df = pd.read_spss(archivo)
df.sample(3)


dict_labels = meta.column_names_to_labels
dict_labels


dict_labels = meta.column_names_to_labels
type(dict_labels)


    meta.value_labels



