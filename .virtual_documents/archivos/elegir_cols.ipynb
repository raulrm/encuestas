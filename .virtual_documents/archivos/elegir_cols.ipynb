import pandas as pd
import numpy as np
import matplotlib.pyplot as plt 
import seaborn as sns
import glob, os
from pathlib import Path
# print(pd.__version__)
# Configuro estilo seaborn
sns.set_theme(style='ticks', context='talk', palette='tab10')

# Suprimo los warnings
import warnings
warnings.simplefilter(action='ignore', category=(FutureWarning, UserWarning))

#from ydata_profiling import ProfileReport
#import dtale


# mostrar todas las columnas del pandas
pd.options.display.max_columns = None


encuesta = "cols_Base CABA Julio- Agosto.c1.pickle"


df = pd.read_pickle(encuesta)
df.sample(3)


# Le agregamos una columna con la fecha de la eleccion a la que corresponde la encuesta
# paso 2023-08-13
# general 2023-10-22
# ballotage 2023-11-19
fecha_eleccion = "2023-08-13"
df['fecha'] = pd.to_datetime(fecha_eleccion, format='%Y-%m-%d')
df.sample(3)


type(df['fecha'])


df.info()



