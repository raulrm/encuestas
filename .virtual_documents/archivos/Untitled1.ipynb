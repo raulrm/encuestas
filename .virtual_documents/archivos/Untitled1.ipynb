import pandas as pd
import numpy as np
import matplotlib.pyplot as plt 
import seaborn as sns
import glob, os
from pathlib import Path
# print(pd.__version__)
# Configuro estilo seaborn
sns.set_theme(style='ticks', context='talk', palette='tab10')

# Suprimo los warnings
import warnings
warnings.simplefilter(action='ignore', category=(FutureWarning, UserWarning))

from ydata_profiling import ProfileReport
import dtale



# mostrar todas las columnas del pandas
pd.options.display.max_columns = None


encuesta = "Nacional.n6.pickle"


df = pd.read_pickle(encuesta)
df


# listar columnas
listado = df.columns
print(listado)


listado_nuevo = ['metodo', 'plaza', 'region', 'sexo', 'edad', 'educacion', 'imagen_massa', 'imagen_milei', 'teme', 'votara_milei',
       'votara_massa', 'ballotage_votara', 'votara_hoy', 'p9_p10', 'combinada', 'general_voto', 'weight1', 'weight2',
       'cr1', 'cr2', 'cr3', 'cr4', 'cr5', 'cr6', 'cr7', 'cr8', 'cr9', 'cr10',
       'cr11']





df.columns = listado_nuevo


df


#nombr_archivo = str('./cols_' + encuesta)
#print(nombr_archivo)
pd.to_pickle(Path(f'./cols_{encuesta}'), compression='infer', protocol=5, storage_options=None)



