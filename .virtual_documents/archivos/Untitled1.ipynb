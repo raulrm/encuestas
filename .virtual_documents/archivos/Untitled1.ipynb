import pandas as pd
import numpy as np
import matplotlib.pyplot as plt 
import seaborn as sns
import glob, os
# print(pd.__version__)
# Configuro estilo seaborn
sns.set_theme(style='ticks', context='talk', palette='tab10')

# Suprimo los warnings
import warnings
warnings.simplefilter(action='ignore', category=(FutureWarning, UserWarning))

from ydata_profiling import ProfileReport
import dtale



encuesta = "Nacional.n6.pickle"


df = pd.read_pickle(encuesta)
df


# listar columnas
listado = df.columns
print(listado)


listado_nuevo = ['metodo', 'comuna', 'sexo', 'edad', 'educacion', 'imagen_bulrich', 'imagen_larreta', 'imagen_lousteau', 'imagen_jorge_macri', 'imagen_massa', 'caba_votaria_lousteau',
       'caba_votaria_jorge_macri', 'caba_quien_votaria', 'jxc_quien_votaria', 'nacional_quien_votaria', 'sufragiaria', '2021_quien_voto', 'pon2']


df.columns = listado_nuevo


df


pd.to_pickle(encuesta)



