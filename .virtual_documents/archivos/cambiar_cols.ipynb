import pandas as pd
import numpy as np
import matplotlib.pyplot as plt 
import seaborn as sns
import glob, os
from pathlib import Path
import pyreadstat

# print(pd.__version__)
# Configuro estilo seaborn
sns.set_theme(style='ticks', context='talk', palette='tab10')

# Suprimo los warnings
import warnings
warnings.simplefilter(action='ignore', category=(FutureWarning, UserWarning))

from ydata_profiling import ProfileReport
import dtale


# mostrar todas las columnas del pandas
pd.options.display.max_columns = None


encuesta = "Base Nacional Final.n1.sav"


df, meta = pyreadstat.read_sav(encuesta)


df = pd.read_spss(encuesta)
df.sample(3)


# listar columnas
listado = df.columns
print(listado)


dict_labels = meta.column_names_to_labels
dict_labels


listado_nuevo = [dict_labels[item] for item in listado]
listado_nuevo























listado_nuevo = ['metodo',
 'comuna',
 'sexo',
 'edad',
 'estudios',
 'imagen_bullrich',
 'imagen_larreta',
 'imagen_lousteau',
 'imagen_jorge_macri',
 'imagen_massa',
 'votaria_lousteau',
 'votaria_jorge_macri',
 'caba_voto_paso',
 'Usted votaría a Martin Lousteau  en la interna de Juntos para evitar que gane Jorge Macri',
 'nacional_voto',
 'Posibilidad existe que vaya a votar en las paso del 13 de agosto',
 'voto_2021',
 'pon2']


df.columns = listado_nuevo


df.sample(3)



nombre_base = "cols_"
nombre_archivo = os.path.join(os.getcwd(), nombre_base + encuesta)

print(nombre_archivo)
df.to_pickle(nombre_archivo)
#df.to_csv(nombre_archivo, sep=';', index=False, header=True, encoding='utf-8')




