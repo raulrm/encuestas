import pandas as pd
import numpy as np
import matplotlib.pyplot as plt 
import seaborn as sns
import glob, os
from pathlib import Path
# print(pd.__version__)
# Configuro estilo seaborn
sns.set_theme(style='ticks', context='talk', palette='tab10')

# Suprimo los warnings
import warnings
warnings.simplefilter(action='ignore', category=(FutureWarning, UserWarning))

from ydata_profiling import ProfileReport
import dtale



# mostrar todas las columnas del pandas
pd.options.display.max_columns = None


encuesta = "Base CABA Julio- Agosto.c1.pickle"


df = pd.read_pickle(encuesta)
df.sample(3)


# listar columnas
listado = df.columns
print(listado)


























df.columns = listado_nuevo


df.sample(3)



nombre_base = "cols_"
nombre_archivo = os.path.join(os.getcwd(), nombre_base + encuesta)

print(nombre_archivo)
df.to_pickle(nombre_archivo)
#df.to_csv(nombre_archivo, sep=';', index=False, header=True, encoding='utf-8')




