import pandas as pd
import numpy as np
import matplotlib.pyplot as plt 
import seaborn as sns
import glob, os
from pathlib import Path
import pyreadstat

# print(pd.__version__)
# Configuro estilo seaborn
sns.set_theme(style='ticks', context='talk', palette='tab10')

# Suprimo los warnings
import warnings
warnings.simplefilter(action='ignore', category=(FutureWarning, UserWarning))

from ydata_profiling import ProfileReport
import dtale


# mostrar todas las columnas del pandas
pd.options.display.max_columns = None


df = pd.read_csv("info_encuestas.csv", sep=";")


df


profile = ProfileReport(df, title="Ver datos comunes")


profile.to_notebook_iframe()



