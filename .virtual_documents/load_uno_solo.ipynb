


# Esto es necesario para que funcione el read_spss de pandas
# !pip install pyreadstat
# Y esto apra que funcione ydata-profiling
# !pip install ipiwidgets


import pandas as pd
import numpy as np
import matplotlib.pyplot as plt 
import seaborn as sns
import glob, os
# print(pd.__version__)
# Configuro estilo seaborn
sns.set_theme(style='ticks', context='talk', palette='tab10')

# Suprimo los warnings
import warnings
warnings.simplefilter(action='ignore', category=(FutureWarning, UserWarning))

from ydata_profiling import ProfileReport





df = pd.read_spss("Base PBA 19-10-23.sav")
df.sample(4)





df.describe()





columnas_de_la_base = df.columns
print(columnas_de_la_base)





# Usamos una herramienta integrada para analizar el dataframe
profile = ProfileReport(df, title="Reporte")
profile


df_excell = pd.read_excel("Resultados_CABA_Sept.xlsx")
df_excell





caba_df = pd.read_spss("Entrega_CABA_09.10.2023-1 (1).sav REDUCC INDECIS.sav")


caba_df





caba2_df = pd.read_spss("Entrega_CABA_09.10.2023-1 (1).sav")
caba2_df





caba2_df.columns = ['metodo', 'comuna', 'genero', 'edad', 'educacion', 'img_larreta', 'img_m_macri', 'img_milei', 'img_cfk', 'img_lousteau', 'img_j_macri', 'img_vidal', 'img_quiroz',
                    '14', 'voto_antes', 'votaria_ahora', '17', '18']
caba2_df





sns.catplot(data=caba2_df, y='educacion', x='edad', kind='swarm', hue='genero' )
plt.show()





pd.crosstab(caba2_df['votaria_ahora'] ,  caba2_df['voto_antes'])





# Leamos todos los archivos de este directorio
directorio = r'.'

resultado  = []
for file_path in os.listdir(directorio):
    if os.path.isfile(os.path.join(directorio, file_path)):
        # sumamos el nombre a la lista
        resultado.append(file_path)
print(resultado)


# Leemos cada archivo .sav

archivos = []
os.chdir(".")
for archivo in glob.glob("*.sav"):
    archivos.append(archivo)

print(archivos)


dfsav = pd.read_spss('base final PBA Abril.sav')
dfsav.sample(5)


# si tiene un formato adecuado, lo grabamos en csv
# como puede tener comas, usamos de separador el punto y coma
# Y lo grabamos sin el numero de indice
# y le dejamos el header para saber el nombre de las columnas
df.to_csv('base final PBA Abril.csv', index=False, sep=';', header=True, mode="x", )  






# Obtenemos la ruta base del directorio actual
ruta_base = os.path.abspath('.')

# diccionario vacía donde almacenaremos los DataFrames resultantes
dataframes = {}

# Recorremos todos los archivos con extensión .csv en el directorio actual
for archivo in os.listdir(ruta_base):
    # Verificamos que se trata de un archivo CSV válido
    if archivo.endswith('.csv'):
        ruta = os.path.join(ruta_base, archivo)
        print(ruta)
        df_temp = pd.read_csv(ruta, sep=";")
        dataframes[archivo] = df_temp
        #dataframes.append(pd_temp)






contador = 2
df_temp = dataframes[list(dataframes.keys())[contador]]
titulo = "Reporte de " + str(list(dataframes.items())[contador][0])
perfil = ProfileReport(df_temp, title=titulo, explorative=True)
perfil.to_file(titulo + ".html")
perfil



